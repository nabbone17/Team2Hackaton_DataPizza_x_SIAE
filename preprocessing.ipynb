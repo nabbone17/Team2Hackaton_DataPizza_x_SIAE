{
 "cells": [
  {
   "cell_type": "code",
   "execution_count": 135,
   "metadata": {},
   "outputs": [],
   "source": [
    "import pandas as pd\n",
    "from utils import find_jurisdiction"
   ]
  },
  {
   "cell_type": "code",
   "execution_count": 136,
   "metadata": {},
   "outputs": [
    {
     "name": "stderr",
     "output_type": "stream",
     "text": [
      "/var/folders/yv/qqf0zjx14wg6d9h4_kyh7qb80000gn/T/ipykernel_7467/4092455349.py:1: DtypeWarning: Columns (11,13,14,15,22,23,26,27,28,29,32,33,34,35,36,37,38,39,41,42,43,46,47,51,52,53,54,55,56,57,58,59,60,61,62,63,64,65,66,67,68,69,70,72,73,75,76,77,78,79,82,83,84,85,86,87,88,89,93,94,95,96,97,99) have mixed types. Specify dtype option on import or set low_memory=False.\n",
      "  df = pd.read_csv('20250523_Hackaton_SIAE.csv')\n"
     ]
    },
    {
     "data": {
      "text/html": [
       "<div>\n",
       "<style scoped>\n",
       "    .dataframe tbody tr th:only-of-type {\n",
       "        vertical-align: middle;\n",
       "    }\n",
       "\n",
       "    .dataframe tbody tr th {\n",
       "        vertical-align: top;\n",
       "    }\n",
       "\n",
       "    .dataframe thead th {\n",
       "        text-align: right;\n",
       "    }\n",
       "</style>\n",
       "<table border=\"1\" class=\"dataframe\">\n",
       "  <thead>\n",
       "    <tr style=\"text-align: right;\">\n",
       "      <th></th>\n",
       "      <th>lon</th>\n",
       "      <th>visible</th>\n",
       "      <th>tags</th>\n",
       "      <th>timestamp</th>\n",
       "      <th>changeset</th>\n",
       "      <th>lat</th>\n",
       "      <th>id</th>\n",
       "      <th>poi_type</th>\n",
       "      <th>version</th>\n",
       "      <th>addr:city</th>\n",
       "      <th>...</th>\n",
       "      <th>geometry</th>\n",
       "      <th>osm_type</th>\n",
       "      <th>biergarten</th>\n",
       "      <th>kiosk</th>\n",
       "      <th>motorcycle</th>\n",
       "      <th>water</th>\n",
       "      <th>playground</th>\n",
       "      <th>building:flats</th>\n",
       "      <th>building:material</th>\n",
       "      <th>building:min_level</th>\n",
       "    </tr>\n",
       "  </thead>\n",
       "  <tbody>\n",
       "    <tr>\n",
       "      <th>0</th>\n",
       "      <td>12.477248</td>\n",
       "      <td>0.0</td>\n",
       "      <td>{\"air_conditioning\":\"yes\",\"check_date\":\"2023-0...</td>\n",
       "      <td>1701610524</td>\n",
       "      <td>0.0</td>\n",
       "      <td>41.901058</td>\n",
       "      <td>32631124</td>\n",
       "      <td>cafe</td>\n",
       "      <td>13</td>\n",
       "      <td>Roma</td>\n",
       "      <td>...</td>\n",
       "      <td>POINT (12.477248191833496 41.901058197021484)</td>\n",
       "      <td>node</td>\n",
       "      <td>NaN</td>\n",
       "      <td>NaN</td>\n",
       "      <td>NaN</td>\n",
       "      <td>NaN</td>\n",
       "      <td>NaN</td>\n",
       "      <td>NaN</td>\n",
       "      <td>NaN</td>\n",
       "      <td>NaN</td>\n",
       "    </tr>\n",
       "    <tr>\n",
       "      <th>1</th>\n",
       "      <td>12.533271</td>\n",
       "      <td>0.0</td>\n",
       "      <td>{\"brand\":\"IP\",\"compressed_air\":\"yes\",\"ref:mise...</td>\n",
       "      <td>1652769104</td>\n",
       "      <td>0.0</td>\n",
       "      <td>41.861176</td>\n",
       "      <td>226903493</td>\n",
       "      <td>fuel</td>\n",
       "      <td>7</td>\n",
       "      <td>NaN</td>\n",
       "      <td>...</td>\n",
       "      <td>POINT (12.533270835876465 41.861175537109375)</td>\n",
       "      <td>node</td>\n",
       "      <td>NaN</td>\n",
       "      <td>NaN</td>\n",
       "      <td>NaN</td>\n",
       "      <td>NaN</td>\n",
       "      <td>NaN</td>\n",
       "      <td>NaN</td>\n",
       "      <td>NaN</td>\n",
       "      <td>NaN</td>\n",
       "    </tr>\n",
       "    <tr>\n",
       "      <th>2</th>\n",
       "      <td>12.442811</td>\n",
       "      <td>0.0</td>\n",
       "      <td>{\"brand\":\"Esso\",\"brand:wikidata\":\"Q867662\",\"re...</td>\n",
       "      <td>1726056413</td>\n",
       "      <td>0.0</td>\n",
       "      <td>41.860683</td>\n",
       "      <td>226912127</td>\n",
       "      <td>fuel</td>\n",
       "      <td>5</td>\n",
       "      <td>NaN</td>\n",
       "      <td>...</td>\n",
       "      <td>POINT (12.442811012268066 41.86068344116211)</td>\n",
       "      <td>node</td>\n",
       "      <td>NaN</td>\n",
       "      <td>NaN</td>\n",
       "      <td>NaN</td>\n",
       "      <td>NaN</td>\n",
       "      <td>NaN</td>\n",
       "      <td>NaN</td>\n",
       "      <td>NaN</td>\n",
       "      <td>NaN</td>\n",
       "    </tr>\n",
       "    <tr>\n",
       "      <th>3</th>\n",
       "      <td>12.440217</td>\n",
       "      <td>0.0</td>\n",
       "      <td>{\"brand\":\"Eni\",\"brand:wikidata\":\"Q565594\",\"fue...</td>\n",
       "      <td>1743327252</td>\n",
       "      <td>0.0</td>\n",
       "      <td>41.879536</td>\n",
       "      <td>226914361</td>\n",
       "      <td>fuel</td>\n",
       "      <td>10</td>\n",
       "      <td>NaN</td>\n",
       "      <td>...</td>\n",
       "      <td>POINT (12.440217018127441 41.87953567504883)</td>\n",
       "      <td>node</td>\n",
       "      <td>NaN</td>\n",
       "      <td>NaN</td>\n",
       "      <td>NaN</td>\n",
       "      <td>NaN</td>\n",
       "      <td>NaN</td>\n",
       "      <td>NaN</td>\n",
       "      <td>NaN</td>\n",
       "      <td>NaN</td>\n",
       "    </tr>\n",
       "    <tr>\n",
       "      <th>4</th>\n",
       "      <td>12.508201</td>\n",
       "      <td>0.0</td>\n",
       "      <td>{\"brand\":\"Eni\",\"brand:wikidata\":\"Q565594\",\"ref...</td>\n",
       "      <td>1747146863</td>\n",
       "      <td>0.0</td>\n",
       "      <td>41.837406</td>\n",
       "      <td>226930875</td>\n",
       "      <td>fuel</td>\n",
       "      <td>8</td>\n",
       "      <td>NaN</td>\n",
       "      <td>...</td>\n",
       "      <td>POINT (12.508200645446777 41.837406158447266)</td>\n",
       "      <td>node</td>\n",
       "      <td>NaN</td>\n",
       "      <td>NaN</td>\n",
       "      <td>NaN</td>\n",
       "      <td>NaN</td>\n",
       "      <td>NaN</td>\n",
       "      <td>NaN</td>\n",
       "      <td>NaN</td>\n",
       "      <td>NaN</td>\n",
       "    </tr>\n",
       "  </tbody>\n",
       "</table>\n",
       "<p>5 rows × 101 columns</p>\n",
       "</div>"
      ],
      "text/plain": [
       "         lon  visible                                               tags  \\\n",
       "0  12.477248      0.0  {\"air_conditioning\":\"yes\",\"check_date\":\"2023-0...   \n",
       "1  12.533271      0.0  {\"brand\":\"IP\",\"compressed_air\":\"yes\",\"ref:mise...   \n",
       "2  12.442811      0.0  {\"brand\":\"Esso\",\"brand:wikidata\":\"Q867662\",\"re...   \n",
       "3  12.440217      0.0  {\"brand\":\"Eni\",\"brand:wikidata\":\"Q565594\",\"fue...   \n",
       "4  12.508201      0.0  {\"brand\":\"Eni\",\"brand:wikidata\":\"Q565594\",\"ref...   \n",
       "\n",
       "    timestamp  changeset        lat         id poi_type  version addr:city  \\\n",
       "0  1701610524        0.0  41.901058   32631124     cafe       13      Roma   \n",
       "1  1652769104        0.0  41.861176  226903493     fuel        7       NaN   \n",
       "2  1726056413        0.0  41.860683  226912127     fuel        5       NaN   \n",
       "3  1743327252        0.0  41.879536  226914361     fuel       10       NaN   \n",
       "4  1747146863        0.0  41.837406  226930875     fuel        8       NaN   \n",
       "\n",
       "   ...                                       geometry osm_type biergarten  \\\n",
       "0  ...  POINT (12.477248191833496 41.901058197021484)     node        NaN   \n",
       "1  ...  POINT (12.533270835876465 41.861175537109375)     node        NaN   \n",
       "2  ...   POINT (12.442811012268066 41.86068344116211)     node        NaN   \n",
       "3  ...   POINT (12.440217018127441 41.87953567504883)     node        NaN   \n",
       "4  ...  POINT (12.508200645446777 41.837406158447266)     node        NaN   \n",
       "\n",
       "  kiosk motorcycle water playground building:flats building:material  \\\n",
       "0   NaN        NaN   NaN        NaN            NaN               NaN   \n",
       "1   NaN        NaN   NaN        NaN            NaN               NaN   \n",
       "2   NaN        NaN   NaN        NaN            NaN               NaN   \n",
       "3   NaN        NaN   NaN        NaN            NaN               NaN   \n",
       "4   NaN        NaN   NaN        NaN            NaN               NaN   \n",
       "\n",
       "  building:min_level  \n",
       "0                NaN  \n",
       "1                NaN  \n",
       "2                NaN  \n",
       "3                NaN  \n",
       "4                NaN  \n",
       "\n",
       "[5 rows x 101 columns]"
      ]
     },
     "execution_count": 136,
     "metadata": {},
     "output_type": "execute_result"
    }
   ],
   "source": [
    "df = pd.read_csv('20250523_Hackaton_SIAE.csv')\n",
    "df2 = pd.read_csv('20250523_Clients_Historical.csv')\n",
    "df.head()"
   ]
  },
  {
   "cell_type": "code",
   "execution_count": 137,
   "metadata": {},
   "outputs": [],
   "source": [
    "df_for_fee = df2.merge(df, on='id', how='left')\n",
    "pd.DataFrame(df_for_fee[\"poi_type\"].unique()).to_csv(\"TipiClientiReali.csv\")\n",
    "fee_means = df_for_fee.groupby(\"poi_type\")[\"fee_value\"].mean()\n",
    "df[\"fee_value\"] = df[\"poi_type\"].map(fee_means)"
   ]
  },
  {
   "cell_type": "code",
   "execution_count": 138,
   "metadata": {},
   "outputs": [],
   "source": [
    "df = df[['lat', 'lon', 'poi_type', 'id', 'osm_type', 'fee_value']]"
   ]
  },
  {
   "cell_type": "code",
   "execution_count": 139,
   "metadata": {},
   "outputs": [
    {
     "data": {
      "text/html": [
       "<div>\n",
       "<style scoped>\n",
       "    .dataframe tbody tr th:only-of-type {\n",
       "        vertical-align: middle;\n",
       "    }\n",
       "\n",
       "    .dataframe tbody tr th {\n",
       "        vertical-align: top;\n",
       "    }\n",
       "\n",
       "    .dataframe thead th {\n",
       "        text-align: right;\n",
       "    }\n",
       "</style>\n",
       "<table border=\"1\" class=\"dataframe\">\n",
       "  <thead>\n",
       "    <tr style=\"text-align: right;\">\n",
       "      <th></th>\n",
       "      <th>lat</th>\n",
       "      <th>lon</th>\n",
       "      <th>poi_type</th>\n",
       "      <th>id</th>\n",
       "      <th>osm_type</th>\n",
       "      <th>fee_value</th>\n",
       "    </tr>\n",
       "  </thead>\n",
       "  <tbody>\n",
       "    <tr>\n",
       "      <th>0</th>\n",
       "      <td>41.901058</td>\n",
       "      <td>12.477248</td>\n",
       "      <td>cafe</td>\n",
       "      <td>32631124</td>\n",
       "      <td>node</td>\n",
       "      <td>110.481682</td>\n",
       "    </tr>\n",
       "    <tr>\n",
       "      <th>1</th>\n",
       "      <td>41.861176</td>\n",
       "      <td>12.533271</td>\n",
       "      <td>fuel</td>\n",
       "      <td>226903493</td>\n",
       "      <td>node</td>\n",
       "      <td>NaN</td>\n",
       "    </tr>\n",
       "    <tr>\n",
       "      <th>2</th>\n",
       "      <td>41.860683</td>\n",
       "      <td>12.442811</td>\n",
       "      <td>fuel</td>\n",
       "      <td>226912127</td>\n",
       "      <td>node</td>\n",
       "      <td>NaN</td>\n",
       "    </tr>\n",
       "    <tr>\n",
       "      <th>3</th>\n",
       "      <td>41.879536</td>\n",
       "      <td>12.440217</td>\n",
       "      <td>fuel</td>\n",
       "      <td>226914361</td>\n",
       "      <td>node</td>\n",
       "      <td>NaN</td>\n",
       "    </tr>\n",
       "    <tr>\n",
       "      <th>4</th>\n",
       "      <td>41.837406</td>\n",
       "      <td>12.508201</td>\n",
       "      <td>fuel</td>\n",
       "      <td>226930875</td>\n",
       "      <td>node</td>\n",
       "      <td>NaN</td>\n",
       "    </tr>\n",
       "  </tbody>\n",
       "</table>\n",
       "</div>"
      ],
      "text/plain": [
       "         lat        lon poi_type         id osm_type   fee_value\n",
       "0  41.901058  12.477248     cafe   32631124     node  110.481682\n",
       "1  41.861176  12.533271     fuel  226903493     node         NaN\n",
       "2  41.860683  12.442811     fuel  226912127     node         NaN\n",
       "3  41.879536  12.440217     fuel  226914361     node         NaN\n",
       "4  41.837406  12.508201     fuel  226930875     node         NaN"
      ]
     },
     "execution_count": 139,
     "metadata": {},
     "output_type": "execute_result"
    }
   ],
   "source": [
    "df.head()"
   ]
  },
  {
   "cell_type": "code",
   "execution_count": 140,
   "metadata": {},
   "outputs": [
    {
     "name": "stdout",
     "output_type": "stream",
     "text": [
      "Number of null values per column:\n",
      "lat          43710\n",
      "lon          43710\n",
      "poi_type     36737\n",
      "id               0\n",
      "osm_type         0\n",
      "fee_value    55846\n",
      "dtype: int64\n"
     ]
    }
   ],
   "source": [
    "# Count null values per column\n",
    "null_counts = df.isnull().sum()\n",
    "print(\"Number of null values per column:\")\n",
    "print(null_counts)"
   ]
  },
  {
   "cell_type": "code",
   "execution_count": 141,
   "metadata": {},
   "outputs": [],
   "source": [
    "df['osm_type'].unique()\n",
    "df = df[df['osm_type'] == 'node']"
   ]
  },
  {
   "cell_type": "code",
   "execution_count": 142,
   "metadata": {},
   "outputs": [
    {
     "data": {
      "text/html": [
       "<div>\n",
       "<style scoped>\n",
       "    .dataframe tbody tr th:only-of-type {\n",
       "        vertical-align: middle;\n",
       "    }\n",
       "\n",
       "    .dataframe tbody tr th {\n",
       "        vertical-align: top;\n",
       "    }\n",
       "\n",
       "    .dataframe thead th {\n",
       "        text-align: right;\n",
       "    }\n",
       "</style>\n",
       "<table border=\"1\" class=\"dataframe\">\n",
       "  <thead>\n",
       "    <tr style=\"text-align: right;\">\n",
       "      <th></th>\n",
       "      <th>lat</th>\n",
       "      <th>lon</th>\n",
       "      <th>poi_type</th>\n",
       "      <th>id</th>\n",
       "      <th>osm_type</th>\n",
       "      <th>fee_value</th>\n",
       "    </tr>\n",
       "  </thead>\n",
       "  <tbody>\n",
       "    <tr>\n",
       "      <th>0</th>\n",
       "      <td>41.901058</td>\n",
       "      <td>12.477248</td>\n",
       "      <td>cafe</td>\n",
       "      <td>32631124</td>\n",
       "      <td>node</td>\n",
       "      <td>110.481682</td>\n",
       "    </tr>\n",
       "    <tr>\n",
       "      <th>1</th>\n",
       "      <td>41.861176</td>\n",
       "      <td>12.533271</td>\n",
       "      <td>fuel</td>\n",
       "      <td>226903493</td>\n",
       "      <td>node</td>\n",
       "      <td>NaN</td>\n",
       "    </tr>\n",
       "    <tr>\n",
       "      <th>2</th>\n",
       "      <td>41.860683</td>\n",
       "      <td>12.442811</td>\n",
       "      <td>fuel</td>\n",
       "      <td>226912127</td>\n",
       "      <td>node</td>\n",
       "      <td>NaN</td>\n",
       "    </tr>\n",
       "    <tr>\n",
       "      <th>3</th>\n",
       "      <td>41.879536</td>\n",
       "      <td>12.440217</td>\n",
       "      <td>fuel</td>\n",
       "      <td>226914361</td>\n",
       "      <td>node</td>\n",
       "      <td>NaN</td>\n",
       "    </tr>\n",
       "    <tr>\n",
       "      <th>4</th>\n",
       "      <td>41.837406</td>\n",
       "      <td>12.508201</td>\n",
       "      <td>fuel</td>\n",
       "      <td>226930875</td>\n",
       "      <td>node</td>\n",
       "      <td>NaN</td>\n",
       "    </tr>\n",
       "  </tbody>\n",
       "</table>\n",
       "</div>"
      ],
      "text/plain": [
       "         lat        lon poi_type         id osm_type   fee_value\n",
       "0  41.901058  12.477248     cafe   32631124     node  110.481682\n",
       "1  41.861176  12.533271     fuel  226903493     node         NaN\n",
       "2  41.860683  12.442811     fuel  226912127     node         NaN\n",
       "3  41.879536  12.440217     fuel  226914361     node         NaN\n",
       "4  41.837406  12.508201     fuel  226930875     node         NaN"
      ]
     },
     "execution_count": 142,
     "metadata": {},
     "output_type": "execute_result"
    }
   ],
   "source": [
    "df.head()"
   ]
  },
  {
   "cell_type": "code",
   "execution_count": 143,
   "metadata": {},
   "outputs": [
    {
     "name": "stdout",
     "output_type": "stream",
     "text": [
      "Total number of entries: 17742\n",
      "\n",
      "Number of entries by POI type:\n",
      "poi_type\n",
      "restaurant          2006\n",
      "bench               1881\n",
      "cafe                1035\n",
      "drinking_water       983\n",
      "clothes              605\n",
      "                    ... \n",
      "recording_studio       1\n",
      "boat_rental            1\n",
      "dairy                  1\n",
      "payment_terminal       1\n",
      "giant_furniture        1\n",
      "Name: count, Length: 315, dtype: int64\n"
     ]
    }
   ],
   "source": [
    "# Count total number of entries\n",
    "total_entries = len(df)\n",
    "print(f\"Total number of entries: {total_entries}\")\n",
    "\n",
    "# Count entries by poi_type\n",
    "poi_type_counts = df['poi_type'].value_counts()\n",
    "print(\"\\nNumber of entries by POI type:\")\n",
    "print(poi_type_counts)"
   ]
  },
  {
   "cell_type": "code",
   "execution_count": 144,
   "metadata": {},
   "outputs": [],
   "source": [
    "# Drop rows from df where id matches any id in df2\n",
    "df = df[~df['id'].isin(df2['id'])]"
   ]
  },
  {
   "cell_type": "code",
   "execution_count": 145,
   "metadata": {},
   "outputs": [
    {
     "data": {
      "text/html": [
       "<div>\n",
       "<style scoped>\n",
       "    .dataframe tbody tr th:only-of-type {\n",
       "        vertical-align: middle;\n",
       "    }\n",
       "\n",
       "    .dataframe tbody tr th {\n",
       "        vertical-align: top;\n",
       "    }\n",
       "\n",
       "    .dataframe thead th {\n",
       "        text-align: right;\n",
       "    }\n",
       "</style>\n",
       "<table border=\"1\" class=\"dataframe\">\n",
       "  <thead>\n",
       "    <tr style=\"text-align: right;\">\n",
       "      <th></th>\n",
       "      <th>lat</th>\n",
       "      <th>lon</th>\n",
       "      <th>poi_type</th>\n",
       "      <th>id</th>\n",
       "      <th>osm_type</th>\n",
       "      <th>fee_value</th>\n",
       "    </tr>\n",
       "  </thead>\n",
       "  <tbody>\n",
       "    <tr>\n",
       "      <th>0</th>\n",
       "      <td>41.901058</td>\n",
       "      <td>12.477248</td>\n",
       "      <td>cafe</td>\n",
       "      <td>32631124</td>\n",
       "      <td>node</td>\n",
       "      <td>110.481682</td>\n",
       "    </tr>\n",
       "    <tr>\n",
       "      <th>1</th>\n",
       "      <td>41.861176</td>\n",
       "      <td>12.533271</td>\n",
       "      <td>fuel</td>\n",
       "      <td>226903493</td>\n",
       "      <td>node</td>\n",
       "      <td>NaN</td>\n",
       "    </tr>\n",
       "    <tr>\n",
       "      <th>2</th>\n",
       "      <td>41.860683</td>\n",
       "      <td>12.442811</td>\n",
       "      <td>fuel</td>\n",
       "      <td>226912127</td>\n",
       "      <td>node</td>\n",
       "      <td>NaN</td>\n",
       "    </tr>\n",
       "    <tr>\n",
       "      <th>3</th>\n",
       "      <td>41.879536</td>\n",
       "      <td>12.440217</td>\n",
       "      <td>fuel</td>\n",
       "      <td>226914361</td>\n",
       "      <td>node</td>\n",
       "      <td>NaN</td>\n",
       "    </tr>\n",
       "    <tr>\n",
       "      <th>4</th>\n",
       "      <td>41.837406</td>\n",
       "      <td>12.508201</td>\n",
       "      <td>fuel</td>\n",
       "      <td>226930875</td>\n",
       "      <td>node</td>\n",
       "      <td>NaN</td>\n",
       "    </tr>\n",
       "  </tbody>\n",
       "</table>\n",
       "</div>"
      ],
      "text/plain": [
       "         lat        lon poi_type         id osm_type   fee_value\n",
       "0  41.901058  12.477248     cafe   32631124     node  110.481682\n",
       "1  41.861176  12.533271     fuel  226903493     node         NaN\n",
       "2  41.860683  12.442811     fuel  226912127     node         NaN\n",
       "3  41.879536  12.440217     fuel  226914361     node         NaN\n",
       "4  41.837406  12.508201     fuel  226930875     node         NaN"
      ]
     },
     "execution_count": 145,
     "metadata": {},
     "output_type": "execute_result"
    }
   ],
   "source": [
    "df.head()"
   ]
  },
  {
   "cell_type": "code",
   "execution_count": 146,
   "metadata": {},
   "outputs": [
    {
     "data": {
      "text/plain": [
       "13924"
      ]
     },
     "execution_count": 146,
     "metadata": {},
     "output_type": "execute_result"
    }
   ],
   "source": [
    "len(df)"
   ]
  },
  {
   "cell_type": "code",
   "execution_count": 147,
   "metadata": {},
   "outputs": [
    {
     "data": {
      "text/plain": [
       "lat              0\n",
       "lon              0\n",
       "poi_type        22\n",
       "id               0\n",
       "osm_type         0\n",
       "fee_value    12676\n",
       "dtype: int64"
      ]
     },
     "execution_count": 147,
     "metadata": {},
     "output_type": "execute_result"
    }
   ],
   "source": [
    "df.isnull().sum()"
   ]
  },
  {
   "cell_type": "code",
   "execution_count": 148,
   "metadata": {},
   "outputs": [
    {
     "name": "stdout",
     "output_type": "stream",
     "text": [
      "\n",
      "Number of entries with null poi_type: 22\n",
      "\n",
      "Sample of entries with null poi_type:\n",
      "              id        lat        lon poi_type\n",
      "1902  1447566610  41.891399  12.485294      NaN\n",
      "2333  1658732749  41.836365  12.494436      NaN\n",
      "2801  1827481786  41.862789  12.479863      NaN\n",
      "3382  2235494523  41.904587  12.456250      NaN\n",
      "3594  2399335237  41.908497  12.503596      NaN\n"
     ]
    }
   ],
   "source": [
    "# Get entries where poi_type is null\n",
    "null_poi_types = df[df['poi_type'].isnull()]\n",
    "print(f\"\\nNumber of entries with null poi_type: {len(null_poi_types)}\")\n",
    "print(\"\\nSample of entries with null poi_type:\")\n",
    "print(null_poi_types[['id', 'lat', 'lon', 'poi_type']].head())"
   ]
  },
  {
   "cell_type": "code",
   "execution_count": 149,
   "metadata": {},
   "outputs": [
    {
     "name": "stdout",
     "output_type": "stream",
     "text": [
      "Number of entries after dropping null poi_types: 13902\n",
      "\n",
      "Null values remaining:\n",
      "lat              0\n",
      "lon              0\n",
      "poi_type         0\n",
      "id               0\n",
      "osm_type         0\n",
      "fee_value    12654\n",
      "dtype: int64\n"
     ]
    }
   ],
   "source": [
    "# Drop rows where poi_type is null\n",
    "df = df.dropna(subset=['poi_type'])\n",
    "\n",
    "# Verify the drop\n",
    "print(f\"Number of entries after dropping null poi_types: {len(df)}\")\n",
    "print(\"\\nNull values remaining:\")\n",
    "print(df.isnull().sum())"
   ]
  },
  {
   "cell_type": "code",
   "execution_count": 150,
   "metadata": {},
   "outputs": [
    {
     "data": {
      "text/plain": [
       "13902"
      ]
     },
     "execution_count": 150,
     "metadata": {},
     "output_type": "execute_result"
    }
   ],
   "source": [
    "len(df)"
   ]
  },
  {
   "cell_type": "code",
   "execution_count": 151,
   "metadata": {},
   "outputs": [
    {
     "data": {
      "text/html": [
       "<div>\n",
       "<style scoped>\n",
       "    .dataframe tbody tr th:only-of-type {\n",
       "        vertical-align: middle;\n",
       "    }\n",
       "\n",
       "    .dataframe tbody tr th {\n",
       "        vertical-align: top;\n",
       "    }\n",
       "\n",
       "    .dataframe thead th {\n",
       "        text-align: right;\n",
       "    }\n",
       "</style>\n",
       "<table border=\"1\" class=\"dataframe\">\n",
       "  <thead>\n",
       "    <tr style=\"text-align: right;\">\n",
       "      <th></th>\n",
       "      <th>jurisdiction</th>\n",
       "      <th>lat_min</th>\n",
       "      <th>lat_max</th>\n",
       "      <th>lon_min</th>\n",
       "      <th>lon_max</th>\n",
       "    </tr>\n",
       "  </thead>\n",
       "  <tbody>\n",
       "    <tr>\n",
       "      <th>0</th>\n",
       "      <td>J1</td>\n",
       "      <td>41.8128</td>\n",
       "      <td>41.8486</td>\n",
       "      <td>12.43652</td>\n",
       "      <td>12.48511</td>\n",
       "    </tr>\n",
       "    <tr>\n",
       "      <th>1</th>\n",
       "      <td>J2</td>\n",
       "      <td>41.8128</td>\n",
       "      <td>41.8486</td>\n",
       "      <td>12.48511</td>\n",
       "      <td>12.53370</td>\n",
       "    </tr>\n",
       "    <tr>\n",
       "      <th>2</th>\n",
       "      <td>J3</td>\n",
       "      <td>41.8486</td>\n",
       "      <td>41.8844</td>\n",
       "      <td>12.43652</td>\n",
       "      <td>12.48511</td>\n",
       "    </tr>\n",
       "    <tr>\n",
       "      <th>3</th>\n",
       "      <td>J4</td>\n",
       "      <td>41.8486</td>\n",
       "      <td>41.8844</td>\n",
       "      <td>12.48511</td>\n",
       "      <td>12.53370</td>\n",
       "    </tr>\n",
       "    <tr>\n",
       "      <th>4</th>\n",
       "      <td>J5</td>\n",
       "      <td>41.8844</td>\n",
       "      <td>41.9202</td>\n",
       "      <td>12.43652</td>\n",
       "      <td>12.48511</td>\n",
       "    </tr>\n",
       "  </tbody>\n",
       "</table>\n",
       "</div>"
      ],
      "text/plain": [
       "  jurisdiction  lat_min  lat_max   lon_min   lon_max\n",
       "0           J1  41.8128  41.8486  12.43652  12.48511\n",
       "1           J2  41.8128  41.8486  12.48511  12.53370\n",
       "2           J3  41.8486  41.8844  12.43652  12.48511\n",
       "3           J4  41.8486  41.8844  12.48511  12.53370\n",
       "4           J5  41.8844  41.9202  12.43652  12.48511"
      ]
     },
     "execution_count": 151,
     "metadata": {},
     "output_type": "execute_result"
    }
   ],
   "source": [
    "df3 = pd.read_csv('jurisdictions.csv')\n",
    "df3.head()"
   ]
  },
  {
   "cell_type": "code",
   "execution_count": 152,
   "metadata": {},
   "outputs": [
    {
     "name": "stdout",
     "output_type": "stream",
     "text": [
      "         lat        lon jurisdiction\n",
      "0  41.901058  12.477248           J5\n",
      "1  41.861176  12.533271           J4\n",
      "2  41.860683  12.442811           J3\n",
      "3  41.879536  12.440217           J3\n",
      "4  41.837406  12.508201           J2\n"
     ]
    }
   ],
   "source": [
    "# Applica la funzione a tutte le righe di df\n",
    "df['jurisdiction'] = df.apply(lambda row: find_jurisdiction(row['lat'], row['lon'], df3), axis=1)\n",
    "\n",
    "# Visualizza il risultato\n",
    "print(df[['lat', 'lon', 'jurisdiction']].head())"
   ]
  },
  {
   "cell_type": "code",
   "execution_count": 153,
   "metadata": {},
   "outputs": [
    {
     "data": {
      "text/plain": [
       "13902"
      ]
     },
     "execution_count": 153,
     "metadata": {},
     "output_type": "execute_result"
    }
   ],
   "source": [
    "len(df)"
   ]
  },
  {
   "cell_type": "code",
   "execution_count": 154,
   "metadata": {},
   "outputs": [
    {
     "data": {
      "text/html": [
       "<div>\n",
       "<style scoped>\n",
       "    .dataframe tbody tr th:only-of-type {\n",
       "        vertical-align: middle;\n",
       "    }\n",
       "\n",
       "    .dataframe tbody tr th {\n",
       "        vertical-align: top;\n",
       "    }\n",
       "\n",
       "    .dataframe thead th {\n",
       "        text-align: right;\n",
       "    }\n",
       "</style>\n",
       "<table border=\"1\" class=\"dataframe\">\n",
       "  <thead>\n",
       "    <tr style=\"text-align: right;\">\n",
       "      <th></th>\n",
       "      <th>0</th>\n",
       "    </tr>\n",
       "  </thead>\n",
       "  <tbody>\n",
       "    <tr>\n",
       "      <th>0</th>\n",
       "      <td>cafe</td>\n",
       "    </tr>\n",
       "    <tr>\n",
       "      <th>1</th>\n",
       "      <td>restaurant</td>\n",
       "    </tr>\n",
       "    <tr>\n",
       "      <th>2</th>\n",
       "      <td>hotel</td>\n",
       "    </tr>\n",
       "    <tr>\n",
       "      <th>3</th>\n",
       "      <td>theatre</td>\n",
       "    </tr>\n",
       "    <tr>\n",
       "      <th>4</th>\n",
       "      <td>fast_food</td>\n",
       "    </tr>\n",
       "    <tr>\n",
       "      <th>5</th>\n",
       "      <td>pub</td>\n",
       "    </tr>\n",
       "    <tr>\n",
       "      <th>6</th>\n",
       "      <td>bar</td>\n",
       "    </tr>\n",
       "    <tr>\n",
       "      <th>7</th>\n",
       "      <td>bakery</td>\n",
       "    </tr>\n",
       "    <tr>\n",
       "      <th>8</th>\n",
       "      <td>hostel</td>\n",
       "    </tr>\n",
       "    <tr>\n",
       "      <th>9</th>\n",
       "      <td>hairdresser</td>\n",
       "    </tr>\n",
       "    <tr>\n",
       "      <th>10</th>\n",
       "      <td>dentist</td>\n",
       "    </tr>\n",
       "    <tr>\n",
       "      <th>11</th>\n",
       "      <td>sports_centre</td>\n",
       "    </tr>\n",
       "    <tr>\n",
       "      <th>12</th>\n",
       "      <td>fitness_centre</td>\n",
       "    </tr>\n",
       "    <tr>\n",
       "      <th>13</th>\n",
       "      <td>sports</td>\n",
       "    </tr>\n",
       "    <tr>\n",
       "      <th>14</th>\n",
       "      <td>nightclub</td>\n",
       "    </tr>\n",
       "    <tr>\n",
       "      <th>15</th>\n",
       "      <td>swimming_pool</td>\n",
       "    </tr>\n",
       "    <tr>\n",
       "      <th>16</th>\n",
       "      <td>events_venue</td>\n",
       "    </tr>\n",
       "    <tr>\n",
       "      <th>17</th>\n",
       "      <td>music_school</td>\n",
       "    </tr>\n",
       "  </tbody>\n",
       "</table>\n",
       "</div>"
      ],
      "text/plain": [
       "                 0\n",
       "0             cafe\n",
       "1       restaurant\n",
       "2            hotel\n",
       "3          theatre\n",
       "4        fast_food\n",
       "5              pub\n",
       "6              bar\n",
       "7           bakery\n",
       "8           hostel\n",
       "9      hairdresser\n",
       "10         dentist\n",
       "11   sports_centre\n",
       "12  fitness_centre\n",
       "13          sports\n",
       "14       nightclub\n",
       "15   swimming_pool\n",
       "16    events_venue\n",
       "17    music_school"
      ]
     },
     "execution_count": 154,
     "metadata": {},
     "output_type": "execute_result"
    }
   ],
   "source": [
    "df_real_clients = pd.read_csv('TipiClientiReali.csv', index_col=0)\n",
    "df_real_clients"
   ]
  },
  {
   "cell_type": "code",
   "execution_count": 155,
   "metadata": {},
   "outputs": [
    {
     "name": "stdout",
     "output_type": "stream",
     "text": [
      "Number of entries after filtering by valid client types: 1248\n",
      "\n",
      "Unique poi_types remaining:\n",
      "['cafe' 'theatre' 'pub' 'bar' 'restaurant' 'hotel' 'fast_food'\n",
      " 'sports_centre' 'hostel' 'nightclub' 'bakery' 'hairdresser' 'sports'\n",
      " 'swimming_pool' 'dentist' 'fitness_centre' 'music_school' 'events_venue']\n"
     ]
    }
   ],
   "source": [
    "# Get list of valid client types from df_real_clients\n",
    "valid_client_types = df_real_clients['0'].unique()\n",
    "\n",
    "# Filter df to keep only rows where poi_type is in valid_client_types\n",
    "df = df[df['poi_type'].isin(valid_client_types)]\n",
    "\n",
    "# Print info about the filtering\n",
    "print(f\"Number of entries after filtering by valid client types: {len(df)}\")\n",
    "print(\"\\nUnique poi_types remaining:\")\n",
    "print(df['poi_type'].unique())"
   ]
  },
  {
   "cell_type": "code",
   "execution_count": 156,
   "metadata": {},
   "outputs": [],
   "source": [
    "df = df.drop(columns=['osm_type'])"
   ]
  },
  {
   "cell_type": "code",
   "execution_count": 157,
   "metadata": {},
   "outputs": [],
   "source": [
    "df.to_csv('dataset.csv', index=False)"
   ]
  },
  {
   "cell_type": "code",
   "execution_count": 158,
   "metadata": {},
   "outputs": [
    {
     "name": "stdout",
     "output_type": "stream",
     "text": [
      "\n",
      "Number of points per jurisdiction:\n",
      "jurisdiction\n",
      "J1     41\n",
      "J2     17\n",
      "J3    155\n",
      "J4    173\n",
      "J5    430\n",
      "J6    432\n",
      "Name: count, dtype: int64\n"
     ]
    },
    {
     "data": {
      "image/png": "[encoded data removed]",
      "text/plain": [
       "<Figure size 1000x600 with 1 Axes>"
      ]
     },
     "metadata": {},
     "output_type": "display_data"
    }
   ],
   "source": [
    "# Count points per jurisdiction\n",
    "jurisdiction_counts = df['jurisdiction'].value_counts().sort_index()\n",
    "print(\"\\nNumber of points per jurisdiction:\")\n",
    "print(jurisdiction_counts)\n",
    "\n",
    "# Optional: Create a bar plot to visualize the distribution\n",
    "import matplotlib.pyplot as plt\n",
    "\n",
    "plt.figure(figsize=(10, 6))\n",
    "jurisdiction_counts.plot(kind='bar')\n",
    "plt.title('Number of Points of Interest per Jurisdiction')\n",
    "plt.xlabel('Jurisdiction')\n",
    "plt.ylabel('Count')\n",
    "plt.xticks(rotation=45)\n",
    "plt.tight_layout()\n",
    "plt.show()"
   ]
  },
  {
   "cell_type": "code",
   "execution_count": null,
   "metadata": {},
   "outputs": [],
   "source": []
  }
 ],
 "metadata": {
  "kernelspec": {
   "display_name": "Python 3",
   "language": "python",
   "name": "python3"
  },
  "language_info": {
   "codemirror_mode": {
    "name": "ipython",
    "version": 3
   },
   "file_extension": ".py",
   "mimetype": "text/x-python",
   "name": "python",
   "nbconvert_exporter": "python",
   "pygments_lexer": "ipython3",
   "version": "3.12.0"
  }
 },
 "nbformat": 4,
 "nbformat_minor": 2
}
