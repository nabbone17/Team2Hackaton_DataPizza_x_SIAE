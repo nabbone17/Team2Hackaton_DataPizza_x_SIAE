{
 "cells": [
  {
   "cell_type": "code",
   "execution_count": 3,
   "metadata": {},
   "outputs": [],
   "source": [
    "from tax_inspector_competition import CompetitionSimulator, DayRoute, POI\n",
    "from typing import List, Dict, Tuple\n",
    "from csv_starting_points import *\n",
    "\n",
    "class Traveler: \n",
    "    def __init__(self, dataset_path: str):\n",
    "        self.simulator = CompetitionSimulator(dataset_path)\n",
    "        self.inspectors = []\n",
    "        self.competition_results = {}\n",
    "        self.fixed_starting_points = None\n",
    "    def _high_value_strategy(self, starting_point: POI) -> List[POI]:\n",
    "        \"\"\"Strategia che privilegia POIs con valore alto\"\"\"\n",
    "        jurisdiction_pois = self.simulator.optimizer.jurisdictions.get(starting_point.jurisdiction, [])\n",
    "        available_pois = [poi for poi in jurisdiction_pois if poi.id != starting_point.id]\n",
    "        \n",
    "        # Ordina per valore decrescente\n",
    "        available_pois.sort(key=lambda poi: poi.fee_value, reverse=True)\n",
    "        \n",
    "        # Prova ad aggiungere POIs in ordine di valore\n",
    "        selected_pois = []\n",
    "        for poi in available_pois:\n",
    "            test_route = selected_pois + [poi]\n",
    "            if (len(test_route) <= 8 and \n",
    "                self.simulator.optimizer.is_valid_route(starting_point, test_route)):\n",
    "                selected_pois.append(poi)\n",
    "        \n",
    "        return selected_pois"
   ]
  },
  {
   "cell_type": "code",
   "execution_count": 4,
   "metadata": {},
   "outputs": [],
   "source": [
    "t = Traveler(\"dataset_finale.csv\")"
   ]
  },
  {
   "cell_type": "code",
   "execution_count": 8,
   "metadata": {},
   "outputs": [
    {
     "name": "stdout",
     "output_type": "stream",
     "text": [
      "Caricati 5 punti di partenza da 'starting_coordinates.csv'\n",
      "Distribuzione per giurisdizione:\n",
      "   J5: 2 punti\n",
      "   J6: 3 punti\n",
      "\n",
      "Dettagli punti di partenza:\n",
      "  Giorno 1: (41.9028, 12.4964) -> J6\n",
      "  Giorno 2: (41.8986, 12.4768) -> J5\n",
      "  Giorno 3: (41.9073, 12.5008) -> J6\n",
      "  Giorno 4: (41.8932, 12.4814) -> J5\n",
      "  Giorno 5: (41.9156, 12.4942) -> J6\n"
     ]
    }
   ],
   "source": [
    "starting_points = load_starting_points_from_coordinates_csv('starting_coordinates.csv')\n",
    "\n",
    "if starting_points:\n",
    "    print(f\"\\nDettagli punti di partenza:\")\n",
    "    for i, poi in enumerate(starting_points, 1):\n",
    "        print(f\"  Giorno {i}: ({poi.lat}, {poi.lon}) -> {poi.jurisdiction}\")"
   ]
  },
  {
   "cell_type": "code",
   "execution_count": 9,
   "metadata": {},
   "outputs": [
    {
     "data": {
      "text/plain": [
       "[POI(id=9000, lat=np.float64(41.9028), lon=np.float64(12.4964), poi_type='starting_point', fee_value=0.0, jurisdiction='J6'),\n",
       " POI(id=9001, lat=np.float64(41.8986), lon=np.float64(12.4768), poi_type='starting_point', fee_value=0.0, jurisdiction='J5'),\n",
       " POI(id=9002, lat=np.float64(41.9073), lon=np.float64(12.5008), poi_type='starting_point', fee_value=0.0, jurisdiction='J6'),\n",
       " POI(id=9003, lat=np.float64(41.8932), lon=np.float64(12.4814), poi_type='starting_point', fee_value=0.0, jurisdiction='J5'),\n",
       " POI(id=9004, lat=np.float64(41.9156), lon=np.float64(12.4942), poi_type='starting_point', fee_value=0.0, jurisdiction='J6')]"
      ]
     },
     "execution_count": 9,
     "metadata": {},
     "output_type": "execute_result"
    }
   ],
   "source": [
    "starting_points"
   ]
  },
  {
   "cell_type": "code",
   "execution_count": 11,
   "metadata": {},
   "outputs": [
    {
     "data": {
      "text/plain": [
       "[POI(id=5232181090, lat=41.89043045043945, lon=12.43865585327148, poi_type='swimming_pool', fee_value=240.3356905639248, jurisdiction='J5'),\n",
       " POI(id=5829710985, lat=41.90057373046875, lon=12.47997665405273, poi_type='sports', fee_value=229.9843252238471, jurisdiction='J5'),\n",
       " POI(id=6043589034, lat=41.9146728515625, lon=12.46701622009277, poi_type='sports', fee_value=229.9843252238471, jurisdiction='J5'),\n",
       " POI(id=10873539265, lat=41.90494537353516, lon=12.4788932800293, poi_type='sports', fee_value=229.9843252238471, jurisdiction='J5'),\n",
       " POI(id=12018507650, lat=41.90374374389648, lon=12.48329448699951, poi_type='sports', fee_value=229.9843252238471, jurisdiction='J5'),\n",
       " POI(id=2244954388, lat=41.89538955688477, lon=12.47938346862793, poi_type='nightclub', fee_value=204.6829716315392, jurisdiction='J5'),\n",
       " POI(id=2274002831, lat=41.89768218994141, lon=12.47760200500488, poi_type='bar', fee_value=150.9060748775907, jurisdiction='J5')]"
      ]
     },
     "execution_count": 11,
     "metadata": {},
     "output_type": "execute_result"
    }
   ],
   "source": [
    "t._high_value_strategy(starting_points[1])"
   ]
  }
 ],
 "metadata": {
  "kernelspec": {
   "display_name": "Python 3",
   "language": "python",
   "name": "python3"
  },
  "language_info": {
   "codemirror_mode": {
    "name": "ipython",
    "version": 3
   },
   "file_extension": ".py",
   "mimetype": "text/x-python",
   "name": "python",
   "nbconvert_exporter": "python",
   "pygments_lexer": "ipython3",
   "version": "3.13.2"
  }
 },
 "nbformat": 4,
 "nbformat_minor": 2
}
