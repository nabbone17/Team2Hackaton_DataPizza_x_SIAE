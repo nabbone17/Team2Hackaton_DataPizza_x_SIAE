{
 "cells": [
  {
   "cell_type": "code",
   "execution_count": 14,
   "metadata": {},
   "outputs": [],
   "source": [
    "from tax_inspector_competition import CompetitionSimulator, DayRoute, POI\n",
    "from typing import List, Dict, Tuple\n",
    "from csv_starting_points import *\n",
    "import pandas\n",
    "\n",
    "class Traveler: \n",
    "    def __init__(self, dataset_path: str):\n",
    "        self.simulator = CompetitionSimulator(dataset_path)\n",
    "        self.inspectors = []\n",
    "        self.competition_results = {}\n",
    "        self.fixed_starting_points = None\n",
    "    def _high_value_strategy(self, starting_point: POI) -> List[POI]:\n",
    "        \"\"\"Strategia che privilegia POIs con valore alto\"\"\"\n",
    "        jurisdiction_pois = self.simulator.optimizer.jurisdictions.get(starting_point.jurisdiction, [])\n",
    "        available_pois = [poi for poi in jurisdiction_pois if poi.id != starting_point.id]\n",
    "        \n",
    "        # Ordina per valore decrescente\n",
    "        available_pois.sort(key=lambda poi: poi.fee_value, reverse=True)\n",
    "        \n",
    "        # Prova ad aggiungere POIs in ordine di valore\n",
    "        selected_pois = []\n",
    "        for poi in available_pois:\n",
    "            test_route = selected_pois + [poi]\n",
    "            if (len(test_route) <= 8 and \n",
    "                self.simulator.optimizer.is_valid_route(starting_point, test_route)):\n",
    "                selected_pois.append(poi)\n",
    "        \n",
    "        return selected_pois"
   ]
  },
  {
   "cell_type": "code",
   "execution_count": 4,
   "metadata": {},
   "outputs": [],
   "source": [
    "t = Traveler(\"dataset_finale.csv\")"
   ]
  },
  {
   "cell_type": "code",
   "execution_count": 27,
   "metadata": {},
   "outputs": [
    {
     "name": "stdout",
     "output_type": "stream",
     "text": [
      "Caricati 5 punti di partenza da 'st_points.csv'\n",
      "Distribuzione per giurisdizione:\n",
      "   J2: 1 punti\n",
      "   J4: 1 punti\n",
      "   J5: 2 punti\n",
      "   J6: 1 punti\n",
      "\n",
      "Dettagli punti di partenza:\n",
      "  Giorno 1: (41.8907406, 12.4773952) -> J5\n",
      "  Giorno 2: (41.9023265, 12.4988301) -> J6\n",
      "  Giorno 3: (41.882561, 12.514131) -> J4\n",
      "  Giorno 4: (41.8970256, 12.4744365) -> J5\n",
      "  Giorno 5: (41.8461723, 12.4879358) -> J2\n"
     ]
    }
   ],
   "source": [
    "df_dum = pd.read_csv('coordinate_per_giorno.csv')\n",
    "df_dum.columns = [\"day\", \"lat\", \"lon\"]\n",
    "df_dum.to_csv(\"st_points.csv\")\n",
    "starting_points = load_starting_points_from_coordinates_csv('st_points.csv')\n",
    "\n",
    "if starting_points:\n",
    "    print(f\"\\nDettagli punti di partenza:\")\n",
    "    for i, poi in enumerate(starting_points, 1):\n",
    "        print(f\"  Giorno {i}: ({poi.lat}, {poi.lon}) -> {poi.jurisdiction}\")"
   ]
  },
  {
   "cell_type": "code",
   "execution_count": 28,
   "metadata": {},
   "outputs": [
    {
     "data": {
      "text/plain": [
       "[POI(id=9000, lat=41.8907406, lon=12.4773952, poi_type='starting_point', fee_value=0.0, jurisdiction='J5'),\n",
       " POI(id=9001, lat=41.9023265, lon=12.4988301, poi_type='starting_point', fee_value=0.0, jurisdiction='J6'),\n",
       " POI(id=9002, lat=41.882561, lon=12.514131, poi_type='starting_point', fee_value=0.0, jurisdiction='J4'),\n",
       " POI(id=9003, lat=41.8970256, lon=12.4744365, poi_type='starting_point', fee_value=0.0, jurisdiction='J5'),\n",
       " POI(id=9004, lat=41.8461723, lon=12.4879358, poi_type='starting_point', fee_value=0.0, jurisdiction='J2')]"
      ]
     },
     "execution_count": 28,
     "metadata": {},
     "output_type": "execute_result"
    }
   ],
   "source": [
    "starting_points"
   ]
  },
  {
   "cell_type": "code",
   "execution_count": 31,
   "metadata": {},
   "outputs": [
    {
     "data": {
      "text/plain": [
       "[POI(id=5232181090, lat=41.89043045043945, lon=12.43865585327148, poi_type='swimming_pool', fee_value=240.3356905639248, jurisdiction='J5'),\n",
       " POI(id=5829710985, lat=41.90057373046875, lon=12.47997665405273, poi_type='sports', fee_value=229.9843252238471, jurisdiction='J5'),\n",
       " POI(id=6043589034, lat=41.9146728515625, lon=12.46701622009277, poi_type='sports', fee_value=229.9843252238471, jurisdiction='J5'),\n",
       " POI(id=10873539265, lat=41.90494537353516, lon=12.4788932800293, poi_type='sports', fee_value=229.9843252238471, jurisdiction='J5'),\n",
       " POI(id=12018507650, lat=41.90374374389648, lon=12.48329448699951, poi_type='sports', fee_value=229.9843252238471, jurisdiction='J5'),\n",
       " POI(id=2244954388, lat=41.89538955688477, lon=12.47938346862793, poi_type='nightclub', fee_value=204.6829716315392, jurisdiction='J5')]"
      ]
     },
     "execution_count": 31,
     "metadata": {},
     "output_type": "execute_result"
    }
   ],
   "source": [
    "t._high_value_strategy(starting_points[0])"
   ]
  }
 ],
 "metadata": {
  "kernelspec": {
   "display_name": "Python 3",
   "language": "python",
   "name": "python3"
  },
  "language_info": {
   "codemirror_mode": {
    "name": "ipython",
    "version": 3
   },
   "file_extension": ".py",
   "mimetype": "text/x-python",
   "name": "python",
   "nbconvert_exporter": "python",
   "pygments_lexer": "ipython3",
   "version": "3.13.2"
  }
 },
 "nbformat": 4,
 "nbformat_minor": 2
}
