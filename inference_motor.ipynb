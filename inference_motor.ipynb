{
 "cells": [
  {
   "cell_type": "code",
   "execution_count": 1,
   "metadata": {},
   "outputs": [],
   "source": [
    "from tax_inspector_competition import CompetitionSimulator, DayRoute, POI\n",
    "from typing import List, Dict, Tuple\n",
    "from csv_starting_points import *\n",
    "import pandas\n",
    "\n",
    "class Traveler: \n",
    "    def __init__(self, dataset_path: str):\n",
    "        self.simulator = CompetitionSimulator(dataset_path)\n",
    "        self.inspectors = []\n",
    "        self.competition_results = {}\n",
    "        self.fixed_starting_points = None\n",
    "    def _high_value_strategy(self, starting_point: POI) -> List[POI]:\n",
    "        \"\"\"Strategia che privilegia POIs con valore alto\"\"\"\n",
    "        jurisdiction_pois = self.simulator.optimizer.jurisdictions.get(starting_point.jurisdiction, [])\n",
    "        available_pois = [poi for poi in jurisdiction_pois if poi.id != starting_point.id]\n",
    "        \n",
    "        # Ordina per valore decrescente\n",
    "        available_pois.sort(key=lambda poi: poi.fee_value, reverse=True)\n",
    "        \n",
    "        # Prova ad aggiungere POIs in ordine di valore\n",
    "        selected_pois = []\n",
    "        for poi in available_pois:\n",
    "            test_route = selected_pois + [poi]\n",
    "            if (len(test_route) <= 8 and \n",
    "                self.simulator.optimizer.is_valid_route(starting_point, test_route)):\n",
    "                selected_pois.append(poi)\n",
    "        \n",
    "        return selected_pois"
   ]
  },
  {
   "cell_type": "code",
   "execution_count": 2,
   "metadata": {},
   "outputs": [],
   "source": [
    "t = Traveler(\"dataset_finale.csv\")"
   ]
  },
  {
   "cell_type": "code",
   "execution_count": 3,
   "metadata": {},
   "outputs": [
    {
     "name": "stdout",
     "output_type": "stream",
     "text": [
      "Caricati 5 punti di partenza da 'st_points.csv'\n",
      "Distribuzione per giurisdizione:\n",
      "   J2: 1 punti\n",
      "   J4: 1 punti\n",
      "   J5: 2 punti\n",
      "   J6: 1 punti\n",
      "\n",
      "Dettagli punti di partenza:\n",
      "  Giorno 1: (41.8907406, 12.4773952) -> J5\n",
      "  Giorno 2: (41.9023265, 12.4988301) -> J6\n",
      "  Giorno 3: (41.882561, 12.514131) -> J4\n",
      "  Giorno 4: (41.8970256, 12.4744365) -> J5\n",
      "  Giorno 5: (41.8461723, 12.4879358) -> J2\n"
     ]
    }
   ],
   "source": [
    "df_dum = pd.read_csv('coordinate_per_giorno.csv')\n",
    "df_dum.columns = [\"day\", \"lat\", \"lon\"]\n",
    "df_dum.to_csv(\"st_points.csv\")\n",
    "starting_points = load_starting_points_from_coordinates_csv('st_points.csv')\n",
    "\n",
    "if starting_points:\n",
    "    print(f\"\\nDettagli punti di partenza:\")\n",
    "    for i, poi in enumerate(starting_points, 1):\n",
    "        print(f\"  Giorno {i}: ({poi.lat}, {poi.lon}) -> {poi.jurisdiction}\")"
   ]
  },
  {
   "cell_type": "code",
   "execution_count": 4,
   "metadata": {},
   "outputs": [
    {
     "data": {
      "text/plain": [
       "[POI(id=9000, lat=41.8907406, lon=12.4773952, poi_type='starting_point', fee_value=0.0, jurisdiction='J5'),\n",
       " POI(id=9001, lat=41.9023265, lon=12.4988301, poi_type='starting_point', fee_value=0.0, jurisdiction='J6'),\n",
       " POI(id=9002, lat=41.882561, lon=12.514131, poi_type='starting_point', fee_value=0.0, jurisdiction='J4'),\n",
       " POI(id=9003, lat=41.8970256, lon=12.4744365, poi_type='starting_point', fee_value=0.0, jurisdiction='J5'),\n",
       " POI(id=9004, lat=41.8461723, lon=12.4879358, poi_type='starting_point', fee_value=0.0, jurisdiction='J2')]"
      ]
     },
     "execution_count": 4,
     "metadata": {},
     "output_type": "execute_result"
    }
   ],
   "source": [
    "starting_points"
   ]
  },
  {
   "cell_type": "code",
   "execution_count": 7,
   "metadata": {},
   "outputs": [],
   "source": [
    "paths = []\n",
    "for ele in starting_points: \n",
    "    paths.append(t._high_value_strategy(ele))"
   ]
  },
  {
   "cell_type": "code",
   "execution_count": 8,
   "metadata": {},
   "outputs": [
    {
     "data": {
      "text/plain": [
       "[[POI(id=5232181090, lat=41.89043045043945, lon=12.43865585327148, poi_type='swimming_pool', fee_value=240.3356905639248, jurisdiction='J5'),\n",
       "  POI(id=11208102698, lat=41.88479232788086, lon=12.47138786315918, poi_type='sports_centre', fee_value=228.0957878683532, jurisdiction='J5'),\n",
       "  POI(id=4224427195, lat=41.88856506347656, lon=12.47531795501709, poi_type='bakery', fee_value=171.00638854344817, jurisdiction='J5')],\n",
       " [POI(id=5245720404, lat=41.89482879638672, lon=12.49997806549072, poi_type='events_venue', fee_value=263.5838435718063, jurisdiction='J6'),\n",
       "  POI(id=8946857225, lat=41.91931915283203, lon=12.4990062713623, poi_type='dentist', fee_value=256.0430060585064, jurisdiction='J6'),\n",
       "  POI(id=6782498346, lat=41.89970397949219, lon=12.49187850952148, poi_type='sports', fee_value=229.9843252238471, jurisdiction='J6'),\n",
       "  POI(id=10748877212, lat=41.89953994750977, lon=12.49194622039795, poi_type='hairdresser', fee_value=139.23176675426865, jurisdiction='J6')],\n",
       " [POI(id=9312609169, lat=41.86210632324219, lon=12.49007892608643, poi_type='events_venue', fee_value=263.5838435718063, jurisdiction='J4'),\n",
       "  POI(id=7638363400, lat=41.85962677001953, lon=12.48787784576416, poi_type='dentist', fee_value=256.0430060585064, jurisdiction='J4'),\n",
       "  POI(id=10042610877, lat=41.85919570922852, lon=12.48914813995361, poi_type='dentist', fee_value=256.0430060585064, jurisdiction='J4')],\n",
       " [POI(id=5232181090, lat=41.89043045043945, lon=12.43865585327148, poi_type='swimming_pool', fee_value=240.3356905639248, jurisdiction='J5'),\n",
       "  POI(id=4982667516, lat=41.89738845825195, lon=12.45239448547363, poi_type='fitness_centre', fee_value=210.6246589093701, jurisdiction='J5'),\n",
       "  POI(id=2244959592, lat=41.89945220947266, lon=12.47022724151611, poi_type='nightclub', fee_value=204.6829716315392, jurisdiction='J5'),\n",
       "  POI(id=5264705021, lat=41.89994812011719, lon=12.47079086303711, poi_type='theatre', fee_value=181.67938381019465, jurisdiction='J5'),\n",
       "  POI(id=10248418330, lat=41.89698791503906, lon=12.47434425354004, poi_type='hairdresser', fee_value=139.23176675426865, jurisdiction='J5')],\n",
       " [POI(id=5676011639, lat=41.84850311279297, lon=12.49131488800049, poi_type='swimming_pool', fee_value=240.3356905639248, jurisdiction='J2'),\n",
       "  POI(id=6565579767, lat=41.8475227355957, lon=12.49008464813232, poi_type='bakery', fee_value=171.00638854344817, jurisdiction='J2'),\n",
       "  POI(id=3828478347, lat=41.83575439453125, lon=12.50683307647705, poi_type='pub', fee_value=162.58985564238574, jurisdiction='J2'),\n",
       "  POI(id=7137029859, lat=41.846435546875, lon=12.49132919311523, poi_type='bar', fee_value=150.9060748775907, jurisdiction='J2'),\n",
       "  POI(id=9792745162, lat=41.84811782836914, lon=12.48844814300537, poi_type='hairdresser', fee_value=139.23176675426865, jurisdiction='J2'),\n",
       "  POI(id=9836486183, lat=41.84815979003906, lon=12.4885139465332, poi_type='hairdresser', fee_value=139.23176675426865, jurisdiction='J2'),\n",
       "  POI(id=5048014288, lat=41.84502410888672, lon=12.48652839660645, poi_type='fast_food', fee_value=130.48347508216804, jurisdiction='J2'),\n",
       "  POI(id=6565556015, lat=41.84673309326172, lon=12.48901557922363, poi_type='cafe', fee_value=110.48168214386756, jurisdiction='J2')]]"
      ]
     },
     "execution_count": 8,
     "metadata": {},
     "output_type": "execute_result"
    }
   ],
   "source": [
    "paths"
   ]
  },
  {
   "cell_type": "code",
   "execution_count": 12,
   "metadata": {},
   "outputs": [],
   "source": [
    "flat_data = []\n",
    "for route_idx, poi_list in enumerate(paths):\n",
    "    for poi_idx, poi in enumerate(poi_list):\n",
    "        flat_data.append({\n",
    "            \"route_id\": f\"R_{poi.jurisdiction}_{route_idx}\",\n",
    "            \"jurisdiction_id\": poi_idx,\n",
    "            \"poi_id\": poi.id,\n",
    "            \"lat\": poi.lat,\n",
    "            \"lon\": poi.lon\n",
    "        })\n",
    "\n",
    "df_fin = pd.DataFrame(flat_data)\n",
    "df_fin.to_csv(\"valuecsv_submission_team2.csv\")"
   ]
  }
 ],
 "metadata": {
  "kernelspec": {
   "display_name": "Python 3",
   "language": "python",
   "name": "python3"
  },
  "language_info": {
   "codemirror_mode": {
    "name": "ipython",
    "version": 3
   },
   "file_extension": ".py",
   "mimetype": "text/x-python",
   "name": "python",
   "nbconvert_exporter": "python",
   "pygments_lexer": "ipython3",
   "version": "3.13.2"
  }
 },
 "nbformat": 4,
 "nbformat_minor": 2
}
