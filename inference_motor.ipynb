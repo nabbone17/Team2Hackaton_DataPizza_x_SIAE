{
 "cells": [
  {
   "cell_type": "code",
   "execution_count": null,
   "metadata": {},
   "outputs": [],
   "source": [
    "from tax_inspector_competition import CompetitionSimulator, DayRoute, POI\n",
    "from typing import List, Dict, Tuple\n",
    "from csv_starting_points import *\n",
    "class Traveler: \n",
    "    def __init__(self, dataset_path: str):\n",
    "        self.simulator = CompetitionSimulator(dataset_path)\n",
    "        self.inspectors = []\n",
    "        self.competition_results = {}\n",
    "        self.fixed_starting_points = None\n",
    "    def _high_value_strategy(self, starting_point: POI) -> List[POI]:\n",
    "        \"\"\"Strategia che privilegia POIs con valore alto\"\"\"\n",
    "        jurisdiction_pois = self.simulator.optimizer.jurisdictions.get(starting_point.jurisdiction, [])\n",
    "        available_pois = [poi for poi in jurisdiction_pois if poi.id != starting_point.id]\n",
    "        \n",
    "        # Ordina per valore decrescente\n",
    "        available_pois.sort(key=lambda poi: poi.fee_value, reverse=True)\n",
    "        \n",
    "        # Prova ad aggiungere POIs in ordine di valore\n",
    "        selected_pois = []\n",
    "        for poi in available_pois:\n",
    "            test_route = selected_pois + [poi]\n",
    "            if (len(test_route) <= 8 and \n",
    "                self.simulator.optimizer.is_valid_route(starting_point, test_route)):\n",
    "                selected_pois.append(poi)\n",
    "        \n",
    "        return selected_pois"
   ]
  },
  {
   "cell_type": "code",
   "execution_count": 4,
   "metadata": {},
   "outputs": [],
   "source": [
    "t = Traveler(\"dataset_finale.csv\")"
   ]
  },
  {
   "cell_type": "code",
   "execution_count": null,
   "metadata": {},
   "outputs": [
    {
     "data": {
      "text/plain": [
       "<__main__.Traveler at 0x169c093fed0>"
      ]
     },
     "execution_count": 5,
     "metadata": {},
     "output_type": "execute_result"
    }
   ],
   "source": [
    "t._high_value_strategy()"
   ]
  }
 ],
 "metadata": {
  "kernelspec": {
   "display_name": "Python 3",
   "language": "python",
   "name": "python3"
  },
  "language_info": {
   "codemirror_mode": {
    "name": "ipython",
    "version": 3
   },
   "file_extension": ".py",
   "mimetype": "text/x-python",
   "name": "python",
   "nbconvert_exporter": "python",
   "pygments_lexer": "ipython3",
   "version": "3.13.2"
  }
 },
 "nbformat": 4,
 "nbformat_minor": 2
}
